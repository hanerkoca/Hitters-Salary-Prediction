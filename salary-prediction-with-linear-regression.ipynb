{
 "cells": [
  {
   "cell_type": "markdown",
   "id": "9ddd47fb",
   "metadata": {
    "papermill": {
     "duration": 0.033122,
     "end_time": "2022-01-26T14:45:47.621704",
     "exception": false,
     "start_time": "2022-01-26T14:45:47.588582",
     "status": "completed"
    },
    "tags": []
   },
   "source": [
    "# Dataset\n",
    "\n",
    "#### *Dataset: Hitters*\n",
    "#### *Sport Art: Baseball*\n",
    "#### *Description: We have some baseball players with their season '86 and also career statistics. And the most important data for the dataset, Salary is from Sports Illustrated.<br> Steps are gonna be like this: Firstly, we check the dataset if there is missing values or some outliers. And then we create some features.<br> Modelling part is gonna be with Linear Regression and we get the Test, Train scores.<br> At the end with our Model we try to predict salaries from baseball players, that they have no information about their salaries.*<br>\n",
    "\n",
    "##### *Columns of Dataset:*\n",
    "\n",
    "* ***AtBat:*** Number of times at bat in 1986\n",
    "* ***Hits:*** Number of hits in 1986\n",
    "* ***HmRun:*** Number of home runs in 1986\n",
    "* ***Runs:*** Number of runs in 1986\n",
    "* ***RBI:*** Number of runs batted in in 1986\n",
    "* ***Walks:*** Number of walks in 1986\n",
    "* ***Years:*** Number of years in the major leagues\n",
    "* ***CAtBat:*** Number of times at bat during his career\n",
    "* ***CHits:*** Number of hits during his career\n",
    "* ***CHmRun:*** Number of home runs during his career\n",
    "* ***CRuns:*** Number of runs during his career\n",
    "* ***CRBI:*** Number of runs batted in during his career\n",
    "* ***CWalks:*** Number of walks during his career\n",
    "* ***League:*** A factor with levels A and N indicating player’s league at the end of 1986\n",
    "* ***Division:*** A factor with levels E and W indicating player’s division at the end of 1986\n",
    "* ***PutOuts:*** Number of put outs in 1986\n",
    "* ***Assists:*** Number of assists in 1986\n",
    "* ***Errors:*** Number of errors in 1986\n",
    "* ***Salary:*** 1987 annual salary on opening day in thousands of dollars\n",
    "* ***NewLeague:*** A factor with levels A and N indicating player’s league at the beginning of 1987"
   ]
  },
  {
   "cell_type": "markdown",
   "id": "4709da38",
   "metadata": {
    "papermill": {
     "duration": 0.031397,
     "end_time": "2022-01-26T14:45:47.685190",
     "exception": false,
     "start_time": "2022-01-26T14:45:47.653793",
     "status": "completed"
    },
    "tags": []
   },
   "source": [
    "<hr style=\"height:2px;border-width:0;color:white;background-color:green\">\n",
    "\n",
    "# Import Dataset & Libraries"
   ]
  },
  {
   "cell_type": "code",
   "execution_count": 1,
   "id": "3e063c64",
   "metadata": {
    "execution": {
     "iopub.execute_input": "2022-01-26T14:45:47.754994Z",
     "iopub.status.busy": "2022-01-26T14:45:47.753122Z",
     "iopub.status.idle": "2022-01-26T14:45:49.230066Z",
     "shell.execute_reply": "2022-01-26T14:45:49.229337Z",
     "shell.execute_reply.started": "2022-01-26T14:23:54.148767Z"
    },
    "papermill": {
     "duration": 1.513205,
     "end_time": "2022-01-26T14:45:49.230195",
     "exception": false,
     "start_time": "2022-01-26T14:45:47.716990",
     "status": "completed"
    },
    "tags": []
   },
   "outputs": [],
   "source": [
    "import matplotlib.pyplot as plt\n",
    "import numpy as np\n",
    "import pandas as pd\n",
    "import seaborn as sns\n",
    "\n",
    "from sklearn.linear_model import LinearRegression\n",
    "from sklearn.preprocessing import StandardScaler\n",
    "\n",
    "from sklearn.model_selection import train_test_split, cross_val_score\n",
    "from sklearn.metrics import mean_squared_error\n",
    "\n",
    "pd.set_option('display.max_columns', None)\n",
    "pd.set_option('display.max_rows', None)\n",
    "pd.set_option('display.width', 1500)\n",
    "pd.set_option('display.float_format', lambda x: '%.3f' % x)"
   ]
  },
  {
   "cell_type": "code",
   "execution_count": 2,
   "id": "50c188f9",
   "metadata": {
    "execution": {
     "iopub.execute_input": "2022-01-26T14:45:49.276762Z",
     "iopub.status.busy": "2022-01-26T14:45:49.276107Z",
     "iopub.status.idle": "2022-01-26T14:45:49.291125Z",
     "shell.execute_reply": "2022-01-26T14:45:49.291609Z",
     "shell.execute_reply.started": "2022-01-26T14:24:42.993821Z"
    },
    "papermill": {
     "duration": 0.039434,
     "end_time": "2022-01-26T14:45:49.291742",
     "exception": false,
     "start_time": "2022-01-26T14:45:49.252308",
     "status": "completed"
    },
    "tags": []
   },
   "outputs": [
    {
     "name": "stdout",
     "output_type": "stream",
     "text": [
      "/kaggle/input/hitters/Hitters.csv\n"
     ]
    }
   ],
   "source": [
    "import numpy as np\n",
    "import pandas as pd\n",
    "\n",
    "import os\n",
    "for dirname, _, filenames in os.walk('/kaggle/input'):\n",
    "    for filename in filenames:\n",
    "        print(os.path.join(dirname, filename))"
   ]
  },
  {
   "cell_type": "code",
   "execution_count": 3,
   "id": "78245a70",
   "metadata": {
    "execution": {
     "iopub.execute_input": "2022-01-26T14:45:49.337123Z",
     "iopub.status.busy": "2022-01-26T14:45:49.336471Z",
     "iopub.status.idle": "2022-01-26T14:45:49.357553Z",
     "shell.execute_reply": "2022-01-26T14:45:49.357956Z",
     "shell.execute_reply.started": "2022-01-26T14:24:44.701386Z"
    },
    "papermill": {
     "duration": 0.044746,
     "end_time": "2022-01-26T14:45:49.358098",
     "exception": false,
     "start_time": "2022-01-26T14:45:49.313352",
     "status": "completed"
    },
    "tags": []
   },
   "outputs": [],
   "source": [
    "df = pd.read_csv(\"/kaggle/input/hitters/Hitters.csv\")"
   ]
  },
  {
   "cell_type": "markdown",
   "id": "6ec83199",
   "metadata": {
    "papermill": {
     "duration": 0.021031,
     "end_time": "2022-01-26T14:45:49.400622",
     "exception": false,
     "start_time": "2022-01-26T14:45:49.379591",
     "status": "completed"
    },
    "tags": []
   },
   "source": [
    "<hr style=\"height:2px;border-width:0;color:white;background-color:green\">\n",
    "\n",
    "# Dataset Preprocessing"
   ]
  },
  {
   "cell_type": "code",
   "execution_count": 4,
   "id": "0609d071",
   "metadata": {
    "execution": {
     "iopub.execute_input": "2022-01-26T14:45:49.446257Z",
     "iopub.status.busy": "2022-01-26T14:45:49.445591Z",
     "iopub.status.idle": "2022-01-26T14:45:49.531925Z",
     "shell.execute_reply": "2022-01-26T14:45:49.530826Z",
     "shell.execute_reply.started": "2022-01-26T14:24:48.360447Z"
    },
    "papermill": {
     "duration": 0.110297,
     "end_time": "2022-01-26T14:45:49.532104",
     "exception": false,
     "start_time": "2022-01-26T14:45:49.421807",
     "status": "completed"
    },
    "tags": []
   },
   "outputs": [
    {
     "name": "stdout",
     "output_type": "stream",
     "text": [
      "######################## Shape ########################\n",
      "\n",
      "(322, 20)\n",
      "######################## Types ########################\n",
      "\n",
      "AtBat          int64\n",
      "Hits           int64\n",
      "HmRun          int64\n",
      "Runs           int64\n",
      "RBI            int64\n",
      "Walks          int64\n",
      "Years          int64\n",
      "CAtBat         int64\n",
      "CHits          int64\n",
      "CHmRun         int64\n",
      "CRuns          int64\n",
      "CRBI           int64\n",
      "CWalks         int64\n",
      "League        object\n",
      "Division      object\n",
      "PutOuts        int64\n",
      "Assists        int64\n",
      "Errors         int64\n",
      "Salary       float64\n",
      "NewLeague     object\n",
      "dtype: object\n",
      "######################## Head ########################\n",
      "\n",
      "   AtBat  Hits  HmRun  Runs  RBI  Walks  Years  CAtBat  CHits  CHmRun  CRuns  CRBI  CWalks League Division  PutOuts  Assists  Errors  Salary NewLeague\n",
      "0    293    66      1    30   29     14      1     293     66       1     30    29      14      A        E      446       33      20     NaN         A\n",
      "1    315    81      7    24   38     39     14    3449    835      69    321   414     375      N        W      632       43      10 475.000         N\n",
      "2    479   130     18    66   72     76      3    1624    457      63    224   266     263      A        W      880       82      14 480.000         A\n",
      "3    496   141     20    65   78     37     11    5628   1575     225    828   838     354      N        E      200       11       3 500.000         N\n",
      "4    321    87     10    39   42     30      2     396    101      12     48    46      33      N        E      805       40       4  91.500         N\n",
      "######################## Tail ########################\n",
      "\n",
      "     AtBat  Hits  HmRun  Runs  RBI  Walks  Years  CAtBat  CHits  CHmRun  CRuns  CRBI  CWalks League Division  PutOuts  Assists  Errors   Salary NewLeague\n",
      "319    475   126      3    61   43     52      6    1700    433       7    217    93     146      A        W       37      113       7  385.000         A\n",
      "320    573   144      9    85   60     78      8    3198    857      97    470   420     332      A        E     1314      131      12  960.000         A\n",
      "321    631   170      9    77   44     31     11    4908   1457      30    775   357     249      A        W      408        4       3 1000.000         A\n",
      "######################## NA ########################\n",
      "\n",
      "AtBat         0\n",
      "Hits          0\n",
      "HmRun         0\n",
      "Runs          0\n",
      "RBI           0\n",
      "Walks         0\n",
      "Years         0\n",
      "CAtBat        0\n",
      "CHits         0\n",
      "CHmRun        0\n",
      "CRuns         0\n",
      "CRBI          0\n",
      "CWalks        0\n",
      "League        0\n",
      "Division      0\n",
      "PutOuts       0\n",
      "Assists       0\n",
      "Errors        0\n",
      "Salary       59\n",
      "NewLeague     0\n",
      "dtype: int64\n",
      "\n",
      "\n",
      "######################## Quantiles ########################\n",
      "\n",
      "          count     mean      std    min      5%      50%      75%      95%      99%       max\n",
      "AtBat   322.000  380.929  153.405 16.000 161.000  379.500  512.000  609.900  658.590   687.000\n",
      "Hits    322.000  101.025   46.455  1.000  39.000   96.000  137.000  174.000  210.790   238.000\n",
      "HmRun   322.000   10.770    8.709  0.000   0.000    8.000   16.000   28.950   33.000    40.000\n",
      "Runs    322.000   50.910   26.024  0.000  17.000   48.000   69.000   94.000  107.790   130.000\n",
      "RBI     322.000   48.028   26.167  0.000  14.000   44.000   64.750   96.000  112.370   121.000\n",
      "Walks   322.000   38.742   21.639  0.000  11.050   35.000   53.000   78.000   93.580   105.000\n",
      "Years   322.000    7.444    4.926  1.000   1.000    6.000   11.000   17.000   19.790    24.000\n",
      "CAtBat  322.000 2648.683 2324.206 19.000 216.500 1928.000 3924.250 7125.600 8749.970 14053.000\n",
      "CHits   322.000  717.571  654.473  4.000  54.000  508.000 1059.250 2017.150 2500.340  4256.000\n",
      "CHmRun  322.000   69.491   86.266  0.000   2.000   37.500   90.000  265.650  373.120   548.000\n",
      "CRuns   322.000  358.795  334.106  1.000  27.000  247.000  526.250 1032.300 1174.370  2165.000\n",
      "CRBI    322.000  330.118  333.220  0.000  22.050  220.500  426.250 1071.750 1310.850  1659.000\n",
      "CWalks  322.000  260.239  267.058  0.000  15.050  170.500  339.250  817.600 1139.140  1566.000\n",
      "PutOuts 322.000  288.938  280.705  0.000  33.200  212.000  325.000  910.650 1301.190  1378.000\n",
      "Assists 322.000  106.913  136.855  0.000   0.000   39.500  166.000  431.450  478.160   492.000\n",
      "Errors  322.000    8.040    6.368  0.000   0.000    6.000   11.000   20.000   25.790    32.000\n",
      "Salary  263.000  535.926  451.119 67.500  86.600  425.000  750.000 1346.000 2032.887  2460.000\n"
     ]
    }
   ],
   "source": [
    "def check_df(dataframe, head=5, tail=3):\n",
    "    print(\"######################## Shape ########################\\n\")\n",
    "    print(dataframe.shape)\n",
    "    print(\"######################## Types ########################\\n\")\n",
    "    print(dataframe.dtypes)\n",
    "    print(\"######################## Head ########################\\n\")\n",
    "    print(dataframe.head(head))\n",
    "    print(\"######################## Tail ########################\\n\")\n",
    "    print(dataframe.tail(tail))\n",
    "    print(\"######################## NA ########################\\n\")\n",
    "    print(dataframe.isnull().sum())\n",
    "    print(\"\\n\\n######################## Quantiles ########################\\n\")\n",
    "    print(dataframe.describe([0.05, 0.50, 0.75, 0.95, 0.99]).T)\n",
    "\n",
    "check_df(df)"
   ]
  },
  {
   "cell_type": "code",
   "execution_count": 5,
   "id": "c35afe08",
   "metadata": {
    "execution": {
     "iopub.execute_input": "2022-01-26T14:45:49.579517Z",
     "iopub.status.busy": "2022-01-26T14:45:49.578856Z",
     "iopub.status.idle": "2022-01-26T14:45:49.582475Z",
     "shell.execute_reply": "2022-01-26T14:45:49.582912Z"
    },
    "papermill": {
     "duration": 0.028964,
     "end_time": "2022-01-26T14:45:49.583051",
     "exception": false,
     "start_time": "2022-01-26T14:45:49.554087",
     "status": "completed"
    },
    "tags": []
   },
   "outputs": [],
   "source": [
    "# As we see, Salary feature has some missing values.\n",
    "# Here I want to seperate these players, who has no salary information and at final we can predict their salaries with model.\n",
    "# Before Modelling we are gonna seperate them like as below.\n",
    "\n",
    "# df_test = df[df[\"Salary\"].isnull()]   # test\n",
    "# df = df[~df[\"Salary\"].isnull()]       # train"
   ]
  },
  {
   "cell_type": "code",
   "execution_count": 6,
   "id": "913f657a",
   "metadata": {
    "execution": {
     "iopub.execute_input": "2022-01-26T14:45:49.643255Z",
     "iopub.status.busy": "2022-01-26T14:45:49.635730Z",
     "iopub.status.idle": "2022-01-26T14:45:49.652516Z",
     "shell.execute_reply": "2022-01-26T14:45:49.652992Z",
     "shell.execute_reply.started": "2022-01-26T14:24:50.51961Z"
    },
    "papermill": {
     "duration": 0.048101,
     "end_time": "2022-01-26T14:45:49.653159",
     "exception": false,
     "start_time": "2022-01-26T14:45:49.605058",
     "status": "completed"
    },
    "tags": []
   },
   "outputs": [
    {
     "name": "stdout",
     "output_type": "stream",
     "text": [
      "Observations: 322\n",
      "Variables: 20\n",
      "cat_cols: 3\n",
      "num_cols: 17\n",
      "cat_but_car: 0\n",
      "num_but_cat: 0\n"
     ]
    }
   ],
   "source": [
    "def grab_col_names(dataframe, cat_th=10, car_th=20):\n",
    "    \"\"\"\n",
    "\n",
    "    Veri setindeki kategorik, numerik ve kategorik fakat kardinal değişkenlerin isimlerini verir.\n",
    "    Not: Kategorik değişkenlerin içerisine numerik görünümlü kategorik değişkenler de dahildir.\n",
    "\n",
    "    Parameters\n",
    "    ------\n",
    "        dataframe: dataframe\n",
    "                Değişken isimleri alınmak istenilen dataframe\n",
    "        cat_th: int, optional\n",
    "                numerik fakat kategorik olan değişkenler için sınıf eşik değeri\n",
    "        car_th: int, optional\n",
    "                kategorik fakat kardinal değişkenler için sınıf eşik değeri\n",
    "\n",
    "    Returns\n",
    "    ------\n",
    "        cat_cols: list\n",
    "                Kategorik değişken listesi\n",
    "        num_cols: list\n",
    "                Numerik değişken listesi\n",
    "        cat_but_car: list\n",
    "                Kategorik görünümlü kardinal değişken listesi\n",
    "\n",
    "    Examples\n",
    "    ------\n",
    "        import seaborn as sns\n",
    "        df = sns.load_dataset(\"iris\")\n",
    "        print(grab_col_names(df))\n",
    "\n",
    "\n",
    "    Notes\n",
    "    ------\n",
    "        cat_cols + num_cols + cat_but_car = toplam değişken sayısı\n",
    "        num_but_cat cat_cols'un içerisinde.\n",
    "\n",
    "    \"\"\"\n",
    "\n",
    "    # cat_cols, cat_but_car\n",
    "    cat_cols = [col for col in dataframe.columns if dataframe[col].dtypes == \"O\"]\n",
    "\n",
    "    num_but_cat = [col for col in dataframe.columns if dataframe[col].nunique() < cat_th and\n",
    "                   dataframe[col].dtypes != \"O\"]\n",
    "\n",
    "    cat_but_car = [col for col in dataframe.columns if dataframe[col].nunique() > car_th and\n",
    "                   dataframe[col].dtypes == \"O\"]\n",
    "\n",
    "    cat_cols = cat_cols + num_but_cat\n",
    "\n",
    "    cat_cols = [col for col in cat_cols if col not in cat_but_car]\n",
    "\n",
    "    # num_cols\n",
    "    num_cols = [col for col in dataframe.columns if dataframe[col].dtypes != \"O\"]\n",
    "\n",
    "    num_cols = [col for col in num_cols if col not in num_but_cat]\n",
    "\n",
    "    print(f\"Observations: {dataframe.shape[0]}\")\n",
    "    print(f\"Variables: {dataframe.shape[1]}\")\n",
    "    print(f'cat_cols: {len(cat_cols)}')\n",
    "    print(f'num_cols: {len(num_cols)}')\n",
    "    print(f'cat_but_car: {len(cat_but_car)}')\n",
    "    print(f'num_but_cat: {len(num_but_cat)}')\n",
    "\n",
    "    return cat_cols, num_cols, cat_but_car\n",
    "\n",
    "cat_cols, num_cols, cat_but_car = grab_col_names(df)"
   ]
  },
  {
   "cell_type": "code",
   "execution_count": 7,
   "id": "6ac6697d",
   "metadata": {
    "execution": {
     "iopub.execute_input": "2022-01-26T14:45:49.720343Z",
     "iopub.status.busy": "2022-01-26T14:45:49.700410Z",
     "iopub.status.idle": "2022-01-26T14:45:50.075877Z",
     "shell.execute_reply": "2022-01-26T14:45:50.074969Z",
     "shell.execute_reply.started": "2022-01-26T14:24:52.51862Z"
    },
    "papermill": {
     "duration": 0.400091,
     "end_time": "2022-01-26T14:45:50.076017",
     "exception": false,
     "start_time": "2022-01-26T14:45:49.675926",
     "status": "completed"
    },
    "tags": []
   },
   "outputs": [
    {
     "name": "stdout",
     "output_type": "stream",
     "text": [
      "   League  Ratio\n",
      "A     175 54.348\n",
      "N     147 45.652\n",
      "##########################################\n",
      "\n"
     ]
    },
    {
     "data": {
      "image/png": "[encoded data removed]",
      "text/plain": [
       "<Figure size 360x360 with 1 Axes>"
      ]
     },
     "metadata": {
      "needs_background": "light"
     },
     "output_type": "display_data"
    },
    {
     "name": "stdout",
     "output_type": "stream",
     "text": [
      "   Division  Ratio\n",
      "W       165 51.242\n",
      "E       157 48.758\n",
      "##########################################\n",
      "\n"
     ]
    },
    {
     "data": {
      "image/png": "[encoded data removed]",
      "text/plain": [
       "<Figure size 360x360 with 1 Axes>"
      ]
     },
     "metadata": {
      "needs_background": "light"
     },
     "output_type": "display_data"
    },
    {
     "name": "stdout",
     "output_type": "stream",
     "text": [
      "   NewLeague  Ratio\n",
      "A        176 54.658\n",
      "N        146 45.342\n",
      "##########################################\n",
      "\n"
     ]
    },
    {
     "data": {
      "image/png": "[encoded data removed]",
      "text/plain": [
       "<Figure size 360x360 with 1 Axes>"
      ]
     },
     "metadata": {
      "needs_background": "light"
     },
     "output_type": "display_data"
    }
   ],
   "source": [
    "def cat_summary(dataframe, col_name, plot=False):\n",
    "    print(pd.DataFrame({col_name: dataframe[col_name].value_counts(),\n",
    "                        \"Ratio\": 100 * dataframe[col_name].value_counts() / len(dataframe)}))\n",
    "    print(\"##########################################\", end = \"\\n\\n\")\n",
    "    if plot:\n",
    "        plt.figure(figsize=[5, 5])\n",
    "        sns.countplot(x=dataframe[col_name], data=dataframe)\n",
    "        plt.show()\n",
    "\n",
    "for col in cat_cols:\n",
    "    cat_summary(df, col, True)"
   ]
  },
  {
   "cell_type": "code",
   "execution_count": 8,
   "id": "82726a56",
   "metadata": {
    "execution": {
     "iopub.execute_input": "2022-01-26T14:45:50.137983Z",
     "iopub.status.busy": "2022-01-26T14:45:50.137347Z",
     "iopub.status.idle": "2022-01-26T14:45:50.141785Z",
     "shell.execute_reply": "2022-01-26T14:45:50.142394Z",
     "shell.execute_reply.started": "2022-01-26T14:24:57.377149Z"
    },
    "papermill": {
     "duration": 0.033202,
     "end_time": "2022-01-26T14:45:50.142558",
     "exception": false,
     "start_time": "2022-01-26T14:45:50.109356",
     "status": "completed"
    },
    "tags": []
   },
   "outputs": [],
   "source": [
    "# Checking outliers...\n",
    "\n",
    "def outlier_thresholds(dataframe, col_name, q1=0.05, q3=0.95):\n",
    "    quartile1 = dataframe[col_name].quantile(q1)\n",
    "    quartile3 = dataframe[col_name].quantile(q3)\n",
    "    interquantile_range = quartile3 - quartile1\n",
    "    up_limit = quartile3 + 1.5 * interquantile_range\n",
    "    low_limit = quartile1 - 1.5 * interquantile_range\n",
    "    return low_limit, up_limit"
   ]
  },
  {
   "cell_type": "code",
   "execution_count": 9,
   "id": "7ad297e0",
   "metadata": {
    "execution": {
     "iopub.execute_input": "2022-01-26T14:45:50.221928Z",
     "iopub.status.busy": "2022-01-26T14:45:50.221239Z",
     "iopub.status.idle": "2022-01-26T14:45:50.272008Z",
     "shell.execute_reply": "2022-01-26T14:45:50.272692Z",
     "shell.execute_reply.started": "2022-01-26T14:24:57.911391Z"
    },
    "papermill": {
     "duration": 0.09384,
     "end_time": "2022-01-26T14:45:50.272884",
     "exception": false,
     "start_time": "2022-01-26T14:45:50.179044",
     "status": "completed"
    },
    "tags": []
   },
   "outputs": [
    {
     "name": "stdout",
     "output_type": "stream",
     "text": [
      "AtBat False\n",
      "Hits False\n",
      "HmRun False\n",
      "Runs False\n",
      "RBI False\n",
      "Walks False\n",
      "Years False\n",
      "CAtBat False\n",
      "CHits False\n",
      "CHmRun False\n",
      "CRuns False\n",
      "CRBI False\n",
      "CWalks False\n",
      "PutOuts False\n",
      "Assists False\n",
      "Errors False\n",
      "Salary False\n"
     ]
    }
   ],
   "source": [
    "def check_outlier(dataframe, col_name):\n",
    "    low_limit, up_limit = outlier_thresholds(dataframe, col_name)\n",
    "    if dataframe[(dataframe[col_name] > up_limit) | (dataframe[col_name] < low_limit)].any(axis=None):\n",
    "        return True\n",
    "    else:\n",
    "        return False\n",
    "    \n",
    "for col in num_cols:\n",
    "    print(col, check_outlier(df, col))"
   ]
  },
  {
   "cell_type": "code",
   "execution_count": 10,
   "id": "2b896bf8",
   "metadata": {
    "execution": {
     "iopub.execute_input": "2022-01-26T14:45:50.350262Z",
     "iopub.status.busy": "2022-01-26T14:45:50.349742Z",
     "iopub.status.idle": "2022-01-26T14:45:51.556455Z",
     "shell.execute_reply": "2022-01-26T14:45:51.556839Z",
     "shell.execute_reply.started": "2022-01-26T14:25:02.303491Z"
    },
    "papermill": {
     "duration": 1.246502,
     "end_time": "2022-01-26T14:45:51.556972",
     "exception": false,
     "start_time": "2022-01-26T14:45:50.310470",
     "status": "completed"
    },
    "tags": []
   },
   "outputs": [
    {
     "data": {
      "image/png": "[encoded data removed]",
      "text/plain": [
       "<Figure size 1296x1296 with 2 Axes>"
      ]
     },
     "metadata": {
      "needs_background": "light"
     },
     "output_type": "display_data"
    },
    {
     "data": {
      "text/html": [
       "<div>\n",
       "<style scoped>\n",
       "    .dataframe tbody tr th:only-of-type {\n",
       "        vertical-align: middle;\n",
       "    }\n",
       "\n",
       "    .dataframe tbody tr th {\n",
       "        vertical-align: top;\n",
       "    }\n",
       "\n",
       "    .dataframe thead th {\n",
       "        text-align: right;\n",
       "    }\n",
       "</style>\n",
       "<table border=\"1\" class=\"dataframe\">\n",
       "  <thead>\n",
       "    <tr style=\"text-align: right;\">\n",
       "      <th></th>\n",
       "      <th>1</th>\n",
       "      <th>2</th>\n",
       "      <th>corr</th>\n",
       "    </tr>\n",
       "  </thead>\n",
       "  <tbody>\n",
       "    <tr>\n",
       "      <th>0</th>\n",
       "      <td>CHmRun</td>\n",
       "      <td>Errors</td>\n",
       "      <td>-0.888</td>\n",
       "    </tr>\n",
       "    <tr>\n",
       "      <th>1</th>\n",
       "      <td>CRBI</td>\n",
       "      <td>Errors</td>\n",
       "      <td>-0.852</td>\n",
       "    </tr>\n",
       "    <tr>\n",
       "      <th>107</th>\n",
       "      <td>RBI</td>\n",
       "      <td>AtBat</td>\n",
       "      <td>0.875</td>\n",
       "    </tr>\n",
       "    <tr>\n",
       "      <th>108</th>\n",
       "      <td>Hits</td>\n",
       "      <td>RBI</td>\n",
       "      <td>0.875</td>\n",
       "    </tr>\n",
       "    <tr>\n",
       "      <th>109</th>\n",
       "      <td>RBI</td>\n",
       "      <td>Runs</td>\n",
       "      <td>0.912</td>\n",
       "    </tr>\n",
       "    <tr>\n",
       "      <th>110</th>\n",
       "      <td>CHmRun</td>\n",
       "      <td>Years</td>\n",
       "      <td>0.916</td>\n",
       "    </tr>\n",
       "    <tr>\n",
       "      <th>111</th>\n",
       "      <td>Errors</td>\n",
       "      <td>Assists</td>\n",
       "      <td>0.922</td>\n",
       "    </tr>\n",
       "    <tr>\n",
       "      <th>112</th>\n",
       "      <td>CHits</td>\n",
       "      <td>CHmRun</td>\n",
       "      <td>0.933</td>\n",
       "    </tr>\n",
       "    <tr>\n",
       "      <th>113</th>\n",
       "      <td>CAtBat</td>\n",
       "      <td>CHmRun</td>\n",
       "      <td>0.934</td>\n",
       "    </tr>\n",
       "    <tr>\n",
       "      <th>114</th>\n",
       "      <td>HmRun</td>\n",
       "      <td>RBI</td>\n",
       "      <td>0.937</td>\n",
       "    </tr>\n",
       "    <tr>\n",
       "      <th>115</th>\n",
       "      <td>CWalks</td>\n",
       "      <td>CHmRun</td>\n",
       "      <td>0.943</td>\n",
       "    </tr>\n",
       "    <tr>\n",
       "      <th>116</th>\n",
       "      <td>CHmRun</td>\n",
       "      <td>CRuns</td>\n",
       "      <td>0.947</td>\n",
       "    </tr>\n",
       "    <tr>\n",
       "      <th>117</th>\n",
       "      <td>Years</td>\n",
       "      <td>CRBI</td>\n",
       "      <td>0.974</td>\n",
       "    </tr>\n",
       "    <tr>\n",
       "      <th>118</th>\n",
       "      <td>CWalks</td>\n",
       "      <td>Years</td>\n",
       "      <td>0.978</td>\n",
       "    </tr>\n",
       "    <tr>\n",
       "      <th>119</th>\n",
       "      <td>CHmRun</td>\n",
       "      <td>CRBI</td>\n",
       "      <td>0.978</td>\n",
       "    </tr>\n",
       "    <tr>\n",
       "      <th>120</th>\n",
       "      <td>CRBI</td>\n",
       "      <td>CWalks</td>\n",
       "      <td>0.981</td>\n",
       "    </tr>\n",
       "    <tr>\n",
       "      <th>121</th>\n",
       "      <td>CRuns</td>\n",
       "      <td>Years</td>\n",
       "      <td>0.982</td>\n",
       "    </tr>\n",
       "    <tr>\n",
       "      <th>122</th>\n",
       "      <td>AtBat</td>\n",
       "      <td>Runs</td>\n",
       "      <td>0.983</td>\n",
       "    </tr>\n",
       "    <tr>\n",
       "      <th>123</th>\n",
       "      <td>CHits</td>\n",
       "      <td>CWalks</td>\n",
       "      <td>0.984</td>\n",
       "    </tr>\n",
       "    <tr>\n",
       "      <th>124</th>\n",
       "      <td>Runs</td>\n",
       "      <td>Hits</td>\n",
       "      <td>0.984</td>\n",
       "    </tr>\n",
       "    <tr>\n",
       "      <th>125</th>\n",
       "      <td>CAtBat</td>\n",
       "      <td>CWalks</td>\n",
       "      <td>0.986</td>\n",
       "    </tr>\n",
       "    <tr>\n",
       "      <th>126</th>\n",
       "      <td>CRBI</td>\n",
       "      <td>CHits</td>\n",
       "      <td>0.987</td>\n",
       "    </tr>\n",
       "    <tr>\n",
       "      <th>127</th>\n",
       "      <td>CRBI</td>\n",
       "      <td>CAtBat</td>\n",
       "      <td>0.987</td>\n",
       "    </tr>\n",
       "    <tr>\n",
       "      <th>128</th>\n",
       "      <td>Years</td>\n",
       "      <td>CHits</td>\n",
       "      <td>0.989</td>\n",
       "    </tr>\n",
       "    <tr>\n",
       "      <th>129</th>\n",
       "      <td>CRuns</td>\n",
       "      <td>CWalks</td>\n",
       "      <td>0.990</td>\n",
       "    </tr>\n",
       "    <tr>\n",
       "      <th>130</th>\n",
       "      <td>CRBI</td>\n",
       "      <td>CRuns</td>\n",
       "      <td>0.991</td>\n",
       "    </tr>\n",
       "    <tr>\n",
       "      <th>131</th>\n",
       "      <td>Years</td>\n",
       "      <td>CAtBat</td>\n",
       "      <td>0.992</td>\n",
       "    </tr>\n",
       "    <tr>\n",
       "      <th>132</th>\n",
       "      <td>AtBat</td>\n",
       "      <td>Hits</td>\n",
       "      <td>0.997</td>\n",
       "    </tr>\n",
       "    <tr>\n",
       "      <th>133</th>\n",
       "      <td>CRuns</td>\n",
       "      <td>CAtBat</td>\n",
       "      <td>0.997</td>\n",
       "    </tr>\n",
       "    <tr>\n",
       "      <th>134</th>\n",
       "      <td>CRuns</td>\n",
       "      <td>CHits</td>\n",
       "      <td>0.998</td>\n",
       "    </tr>\n",
       "    <tr>\n",
       "      <th>135</th>\n",
       "      <td>CHits</td>\n",
       "      <td>CAtBat</td>\n",
       "      <td>1.000</td>\n",
       "    </tr>\n",
       "    <tr>\n",
       "      <th>136</th>\n",
       "      <td>AtBat</td>\n",
       "      <td>AtBat</td>\n",
       "      <td>1.000</td>\n",
       "    </tr>\n",
       "  </tbody>\n",
       "</table>\n",
       "</div>"
      ],
      "text/plain": [
       "          1        2   corr\n",
       "0    CHmRun   Errors -0.888\n",
       "1      CRBI   Errors -0.852\n",
       "107     RBI    AtBat  0.875\n",
       "108    Hits      RBI  0.875\n",
       "109     RBI     Runs  0.912\n",
       "110  CHmRun    Years  0.916\n",
       "111  Errors  Assists  0.922\n",
       "112   CHits   CHmRun  0.933\n",
       "113  CAtBat   CHmRun  0.934\n",
       "114   HmRun      RBI  0.937\n",
       "115  CWalks   CHmRun  0.943\n",
       "116  CHmRun    CRuns  0.947\n",
       "117   Years     CRBI  0.974\n",
       "118  CWalks    Years  0.978\n",
       "119  CHmRun     CRBI  0.978\n",
       "120    CRBI   CWalks  0.981\n",
       "121   CRuns    Years  0.982\n",
       "122   AtBat     Runs  0.983\n",
       "123   CHits   CWalks  0.984\n",
       "124    Runs     Hits  0.984\n",
       "125  CAtBat   CWalks  0.986\n",
       "126    CRBI    CHits  0.987\n",
       "127    CRBI   CAtBat  0.987\n",
       "128   Years    CHits  0.989\n",
       "129   CRuns   CWalks  0.990\n",
       "130    CRBI    CRuns  0.991\n",
       "131   Years   CAtBat  0.992\n",
       "132   AtBat     Hits  0.997\n",
       "133   CRuns   CAtBat  0.997\n",
       "134   CRuns    CHits  0.998\n",
       "135   CHits   CAtBat  1.000\n",
       "136   AtBat    AtBat  1.000"
      ]
     },
     "execution_count": 10,
     "metadata": {},
     "output_type": "execute_result"
    }
   ],
   "source": [
    "# Checking correlation...\n",
    "\n",
    "def correlation_sum(dataframe, up_limit = 0.65, down_limit = -0.65, plot=False):\n",
    "    corr_df = df.corr()\n",
    "\n",
    "    if plot:\n",
    "        plt.figure(figsize=[18, 18])\n",
    "        sns.heatmap(corr_df, annot=True, xticklabels=corr_df.columns, yticklabels=corr_df.columns)\n",
    "        plt.show()\n",
    "\n",
    "    corr_df = dataframe.corr()\n",
    "    corr_df = corr_df.corr().unstack().sort_values().drop_duplicates()\n",
    "    corr_df = pd.DataFrame(corr_df, columns=[\"corr\"])\n",
    "    corr_df.index.names = ['1', '2']\n",
    "    corr_df = corr_df.reset_index()\n",
    "    high_corr = corr_df[(corr_df[\"corr\"] >= up_limit) | (corr_df[\"corr\"] <= down_limit)]\n",
    "\n",
    "    return high_corr\n",
    "\n",
    "correlation_sum(df, 0.85, -0.85, True)"
   ]
  },
  {
   "cell_type": "markdown",
   "id": "c073ed56",
   "metadata": {
    "papermill": {
     "duration": 0.027963,
     "end_time": "2022-01-26T14:45:51.613061",
     "exception": false,
     "start_time": "2022-01-26T14:45:51.585098",
     "status": "completed"
    },
    "tags": []
   },
   "source": [
    "#### Note: There are a lot of high correlation features but I don't want to drop some feature at that moment. We need all feature, because for the feature engineering all statistics can be useful. Let's begin create features..."
   ]
  },
  {
   "cell_type": "markdown",
   "id": "5d50ec1c",
   "metadata": {
    "papermill": {
     "duration": 0.027602,
     "end_time": "2022-01-26T14:45:51.668650",
     "exception": false,
     "start_time": "2022-01-26T14:45:51.641048",
     "status": "completed"
    },
    "tags": []
   },
   "source": [
    "<hr style=\"height:2px;border-width:0;color:white;background-color:green\">\n",
    "\n",
    "# Feature Engineering"
   ]
  },
  {
   "cell_type": "code",
   "execution_count": 11,
   "id": "6174b4d2",
   "metadata": {
    "execution": {
     "iopub.execute_input": "2022-01-26T14:45:51.743620Z",
     "iopub.status.busy": "2022-01-26T14:45:51.733207Z",
     "iopub.status.idle": "2022-01-26T14:45:51.787148Z",
     "shell.execute_reply": "2022-01-26T14:45:51.786650Z",
     "shell.execute_reply.started": "2022-01-26T14:25:10.681135Z"
    },
    "papermill": {
     "duration": 0.090755,
     "end_time": "2022-01-26T14:45:51.787260",
     "exception": false,
     "start_time": "2022-01-26T14:45:51.696505",
     "status": "completed"
    },
    "tags": []
   },
   "outputs": [],
   "source": [
    "num_cols = [col for col in num_cols if col not in [\"Salary\", \"Years\"]]\n",
    "df[num_cols] = df[num_cols] + 1\n",
    "\n",
    "# Percentages by Hits\n",
    "df[\"New_Hits/AtBat\"] = df[\"Hits\"] / df[\"AtBat\"]\n",
    "df[\"New_HmRun/Hits\"] = df[\"HmRun\"] / df[\"Hits\"]\n",
    "df[\"New_Runs/Hits\"] = df[\"Runs\"] / df[\"Hits\"]\n",
    "df[\"New_RBI/Hits\"] = df[\"RBI\"] / df[\"Hits\"]\n",
    "\n",
    "df[\"New_CHits/CAtBat\"] = df[\"CHits\"] / df[\"CAtBat\"]\n",
    "df[\"New_CHmRun/CHits\"] = df[\"CHmRun\"] / df[\"CHits\"]\n",
    "df[\"New_CRuns/CHits\"] = df[\"CRuns\"] / df[\"CHits\"]\n",
    "df[\"New_CRBI/CHits\"] = df[\"CRBI\"] / df[\"CHits\"]\n",
    "\n",
    "# Career average statistics\n",
    "df[\"New_CAtBat_mean\"] = df[\"CAtBat\"]/df[\"Years\"]\n",
    "df[\"New_CHits_mean\"] = df[\"CHits\"]/df[\"Years\"]\n",
    "df[\"New_CHmRun_mean\"] = df[\"CHmRun\"]/df[\"Years\"]\n",
    "df[\"New_CRBI_mean\"] = df[\"CRBI\"]/df[\"Years\"]\n",
    "df[\"New_CWalks_mean\"] = df[\"CWalks\"]/df[\"Years\"]\n",
    "\n",
    "# Players segmentation\n",
    "df.loc[(df['Years'] < 4), 'New_Years_Cat'] = 'rookie'\n",
    "df.loc[(df['Years'] >= 4) & (df['Years'] < 9), 'New_Years_Cat'] = 'pro'\n",
    "df.loc[(df['Years'] >= 9) & (df['Years'] < 15), 'New_Years_Cat'] = 'experienced'\n",
    "df.loc[(df['Years'] >= 15), 'New_Years_Cat'] = 'old'\n",
    "\n",
    "# Transfer situation\n",
    "df.loc[(df[\"League\"] == \"A\") & (df[\"NewLeague\"] == \"N\"), 'New_League_Move'] = \"transfer_A_N\"\n",
    "df.loc[(df[\"League\"] == \"N\") & (df[\"NewLeague\"] == \"A\"), 'New_League_Move'] = \"transfer_N_A\"\n",
    "df.loc[(df[\"League\"] == \"A\") & (df[\"NewLeague\"] == \"A\"), 'New_League_Move'] = \"stayed_A\"\n",
    "df.loc[(df[\"League\"] == \"N\") & (df[\"NewLeague\"] == \"N\"), 'New_League_Move'] = \"stayed_N\"\n",
    "\n",
    "# Benefits ans Loss\n",
    "df[\"New_Errors/Walks\"] = df[\"Errors\"] / df[\"Walks\"]\n",
    "df[\"New_Benefit_Loss\"] = df[\"Assists\"] + df[\"PutOuts\"] + df[\"Walks\"] - df[\"Errors\"]\n",
    "\n",
    "# Advanced statistics\n",
    "df[\"New_OBP\"] = (df[\"Hits\"] + df[\"Walks\"] + (df[\"Hits\"]/df[\"AtBat\"])) / (df[\"AtBat\"]+df[\"Walks\"]+(df[\"Hits\"]/df[\"AtBat\"])+(df[\"RBI\"]-df[\"Runs\"]))\n",
    "df[\"New_COBP\"] = (df[\"CHits\"] + df[\"CWalks\"] + (df[\"CHits\"]/df[\"CAtBat\"])) / (df[\"CAtBat\"]+df[\"CWalks\"]+(df[\"CHits\"]/df[\"CAtBat\"])+(df[\"CRBI\"]-df[\"CRuns\"]))\n",
    "df[\"New_SLG\"] = ((4*df[\"HmRun\"]) + df[\"Runs\"])/df[\"AtBat\"]\n",
    "df[\"New_CSLG\"] = ((4*df[\"CHmRun\"]) + df[\"CRuns\"])/df[\"CAtBat\"]\n",
    "df[\"New_COPS\"] = df[\"New_COBP\"] + df[\"New_CSLG\"]\n",
    "df[\"BABIP\"] = (df[\"Hits\"] - df[\"HmRun\"]) / (df[\"AtBat\"] - df[\"HmRun\"] - df[\"Errors\"] + (df[\"RBI\"]-df[\"Runs\"]))\n",
    "df[\"New_ERA\"] = df[\"Runs\"] / ((df[\"Walks\"]/df[\"Hits\"]) * 9)\n",
    "df[\"New_CERA\"] = (df[\"CRuns\"] / (df[\"CWalks\"]/df[\"CHits\"])) * 9\n",
    "df[\"New_WHIP\"] = (df[\"Walks\"] + df[\"Hits\"]) / (df[\"Walks\"] / df[\"Hits\"])\n",
    "df[\"New_CWHIP\"] = (df[\"CWalks\"] + df[\"CHits\"]) / (df[\"CWalks\"] / df[\"CHits\"])"
   ]
  },
  {
   "cell_type": "code",
   "execution_count": 12,
   "id": "1fc1dbfd",
   "metadata": {
    "execution": {
     "iopub.execute_input": "2022-01-26T14:45:51.847952Z",
     "iopub.status.busy": "2022-01-26T14:45:51.847486Z",
     "iopub.status.idle": "2022-01-26T14:45:51.852059Z",
     "shell.execute_reply": "2022-01-26T14:45:51.852557Z",
     "shell.execute_reply.started": "2022-01-26T14:25:13.968684Z"
    },
    "papermill": {
     "duration": 0.036725,
     "end_time": "2022-01-26T14:45:51.852691",
     "exception": false,
     "start_time": "2022-01-26T14:45:51.815966",
     "status": "completed"
    },
    "tags": []
   },
   "outputs": [
    {
     "data": {
      "text/plain": [
       "(322, 47)"
      ]
     },
     "execution_count": 12,
     "metadata": {},
     "output_type": "execute_result"
    }
   ],
   "source": [
    "# We got more columns :)\n",
    "df.shape"
   ]
  },
  {
   "cell_type": "code",
   "execution_count": 13,
   "id": "3672645b",
   "metadata": {
    "execution": {
     "iopub.execute_input": "2022-01-26T14:45:51.914682Z",
     "iopub.status.busy": "2022-01-26T14:45:51.913455Z",
     "iopub.status.idle": "2022-01-26T14:45:51.930144Z",
     "shell.execute_reply": "2022-01-26T14:45:51.930771Z",
     "shell.execute_reply.started": "2022-01-26T14:25:15.320108Z"
    },
    "papermill": {
     "duration": 0.049342,
     "end_time": "2022-01-26T14:45:51.930980",
     "exception": false,
     "start_time": "2022-01-26T14:45:51.881638",
     "status": "completed"
    },
    "tags": []
   },
   "outputs": [
    {
     "name": "stdout",
     "output_type": "stream",
     "text": [
      "Observations: 322\n",
      "Variables: 47\n",
      "cat_cols: 5\n",
      "num_cols: 42\n",
      "cat_but_car: 0\n",
      "num_but_cat: 0\n"
     ]
    }
   ],
   "source": [
    "cat_cols, num_cols, cat_but_car = grab_col_names(df)"
   ]
  },
  {
   "cell_type": "code",
   "execution_count": 14,
   "id": "a4ec6616",
   "metadata": {
    "execution": {
     "iopub.execute_input": "2022-01-26T14:45:52.020995Z",
     "iopub.status.busy": "2022-01-26T14:45:52.020340Z",
     "iopub.status.idle": "2022-01-26T14:45:52.038044Z",
     "shell.execute_reply": "2022-01-26T14:45:52.037356Z",
     "shell.execute_reply.started": "2022-01-26T14:25:17.503413Z"
    },
    "papermill": {
     "duration": 0.063528,
     "end_time": "2022-01-26T14:45:52.038195",
     "exception": false,
     "start_time": "2022-01-26T14:45:51.974667",
     "status": "completed"
    },
    "tags": []
   },
   "outputs": [
    {
     "name": "stdout",
     "output_type": "stream",
     "text": [
      "League\n",
      "A   542.000\n",
      "N   529.118\n",
      "Name: Salary, dtype: float64\n",
      "################################\n",
      "\n",
      "Division\n",
      "E   624.271\n",
      "W   450.877\n",
      "Name: Salary, dtype: float64\n",
      "################################\n",
      "\n",
      "NewLeague\n",
      "A   537.113\n",
      "N   534.554\n",
      "Name: Salary, dtype: float64\n",
      "################################\n",
      "\n",
      "New_Years_Cat\n",
      "experienced   821.289\n",
      "old           602.967\n",
      "pro           554.170\n",
      "rookie        181.368\n",
      "Name: Salary, dtype: float64\n",
      "################################\n",
      "\n",
      "New_League_Move\n",
      "stayed_A       541.015\n",
      "stayed_N       532.900\n",
      "transfer_A_N   558.125\n",
      "transfer_N_A   486.000\n",
      "Name: Salary, dtype: float64\n",
      "################################\n",
      "\n"
     ]
    }
   ],
   "source": [
    "# Checking quickly categoric columns by Salary \n",
    "\n",
    "def rating_summary(dataframe, col, target):\n",
    "    print(dataframe.groupby(col)[target].mean())\n",
    "    print(\"################################\", end=\"\\n\\n\")\n",
    "    \n",
    "for col in cat_cols:\n",
    "    rating_summary(df, col, \"Salary\")"
   ]
  },
  {
   "cell_type": "code",
   "execution_count": 15,
   "id": "deda4b8f",
   "metadata": {
    "execution": {
     "iopub.execute_input": "2022-01-26T14:45:52.130248Z",
     "iopub.status.busy": "2022-01-26T14:45:52.127226Z",
     "iopub.status.idle": "2022-01-26T14:45:52.140430Z",
     "shell.execute_reply": "2022-01-26T14:45:52.139978Z",
     "shell.execute_reply.started": "2022-01-26T14:25:19.624165Z"
    },
    "papermill": {
     "duration": 0.059216,
     "end_time": "2022-01-26T14:45:52.140549",
     "exception": false,
     "start_time": "2022-01-26T14:45:52.081333",
     "status": "completed"
    },
    "tags": []
   },
   "outputs": [],
   "source": [
    "# One Hot Encoding\n",
    "\n",
    "def one_hot_encoder(dataframe, categorical_cols, drop_first=False):\n",
    "    dataframe = pd.get_dummies(dataframe, columns=categorical_cols, drop_first=drop_first)\n",
    "    return dataframe\n",
    "\n",
    "df = one_hot_encoder(df, cat_cols, True)"
   ]
  },
  {
   "cell_type": "code",
   "execution_count": 16,
   "id": "49ed5a21",
   "metadata": {
    "execution": {
     "iopub.execute_input": "2022-01-26T14:45:52.202314Z",
     "iopub.status.busy": "2022-01-26T14:45:52.201658Z",
     "iopub.status.idle": "2022-01-26T14:45:52.220646Z",
     "shell.execute_reply": "2022-01-26T14:45:52.221027Z",
     "shell.execute_reply.started": "2022-01-26T14:25:20.679979Z"
    },
    "papermill": {
     "duration": 0.051197,
     "end_time": "2022-01-26T14:45:52.221165",
     "exception": false,
     "start_time": "2022-01-26T14:45:52.169968",
     "status": "completed"
    },
    "tags": []
   },
   "outputs": [
    {
     "name": "stdout",
     "output_type": "stream",
     "text": [
      "Observations: 322\n",
      "Variables: 51\n",
      "cat_cols: 9\n",
      "num_cols: 42\n",
      "cat_but_car: 0\n",
      "num_but_cat: 9\n"
     ]
    }
   ],
   "source": [
    "cat_cols, num_cols, cat_but_car = grab_col_names(df)"
   ]
  },
  {
   "cell_type": "code",
   "execution_count": 17,
   "id": "b61578fd",
   "metadata": {
    "execution": {
     "iopub.execute_input": "2022-01-26T14:45:52.283624Z",
     "iopub.status.busy": "2022-01-26T14:45:52.282960Z",
     "iopub.status.idle": "2022-01-26T14:45:52.287503Z",
     "shell.execute_reply": "2022-01-26T14:45:52.287903Z",
     "shell.execute_reply.started": "2022-01-26T14:25:22.78347Z"
    },
    "papermill": {
     "duration": 0.03716,
     "end_time": "2022-01-26T14:45:52.288045",
     "exception": false,
     "start_time": "2022-01-26T14:45:52.250885",
     "status": "completed"
    },
    "tags": []
   },
   "outputs": [],
   "source": [
    "num_cols = [col for col in num_cols if \"Salary\" not in col]"
   ]
  },
  {
   "cell_type": "code",
   "execution_count": 18,
   "id": "038f8436",
   "metadata": {
    "execution": {
     "iopub.execute_input": "2022-01-26T14:45:52.350996Z",
     "iopub.status.busy": "2022-01-26T14:45:52.350333Z",
     "iopub.status.idle": "2022-01-26T14:45:52.365248Z",
     "shell.execute_reply": "2022-01-26T14:45:52.365711Z",
     "shell.execute_reply.started": "2022-01-26T14:25:25.488159Z"
    },
    "papermill": {
     "duration": 0.047659,
     "end_time": "2022-01-26T14:45:52.365854",
     "exception": false,
     "start_time": "2022-01-26T14:45:52.318195",
     "status": "completed"
    },
    "tags": []
   },
   "outputs": [],
   "source": [
    "# Standard Scaler\n",
    "\n",
    "ss = StandardScaler()\n",
    "df[num_cols] = ss.fit_transform(df[num_cols])"
   ]
  },
  {
   "cell_type": "code",
   "execution_count": 19,
   "id": "33b6c338",
   "metadata": {
    "execution": {
     "iopub.execute_input": "2022-01-26T14:45:52.428551Z",
     "iopub.status.busy": "2022-01-26T14:45:52.427893Z",
     "iopub.status.idle": "2022-01-26T14:45:52.433965Z",
     "shell.execute_reply": "2022-01-26T14:45:52.434399Z",
     "shell.execute_reply.started": "2022-01-26T14:26:26.155296Z"
    },
    "papermill": {
     "duration": 0.039025,
     "end_time": "2022-01-26T14:45:52.434538",
     "exception": false,
     "start_time": "2022-01-26T14:45:52.395513",
     "status": "completed"
    },
    "tags": []
   },
   "outputs": [],
   "source": [
    "# Seperate who has no information about Salary\n",
    "\n",
    "df_test = df[df[\"Salary\"].isnull()]   # test\n",
    "df = df[~df[\"Salary\"].isnull()]       # train"
   ]
  },
  {
   "cell_type": "markdown",
   "id": "672f6385",
   "metadata": {
    "papermill": {
     "duration": 0.029617,
     "end_time": "2022-01-26T14:45:52.493784",
     "exception": false,
     "start_time": "2022-01-26T14:45:52.464167",
     "status": "completed"
    },
    "tags": []
   },
   "source": [
    "<hr style=\"height:2px;border-width:0;color:white;background-color:green\">\n",
    "\n",
    "# Modelling"
   ]
  },
  {
   "cell_type": "code",
   "execution_count": 20,
   "id": "dcfa403f",
   "metadata": {
    "execution": {
     "iopub.execute_input": "2022-01-26T14:45:52.572078Z",
     "iopub.status.busy": "2022-01-26T14:45:52.568598Z",
     "iopub.status.idle": "2022-01-26T14:45:52.605559Z",
     "shell.execute_reply": "2022-01-26T14:45:52.606289Z",
     "shell.execute_reply.started": "2022-01-26T14:26:29.830963Z"
    },
    "papermill": {
     "duration": 0.082055,
     "end_time": "2022-01-26T14:45:52.606484",
     "exception": false,
     "start_time": "2022-01-26T14:45:52.524429",
     "status": "completed"
    },
    "tags": []
   },
   "outputs": [
    {
     "data": {
      "text/plain": [
       "LinearRegression()"
      ]
     },
     "execution_count": 20,
     "metadata": {},
     "output_type": "execute_result"
    }
   ],
   "source": [
    "# Linear Regression\n",
    "\n",
    "y=df[\"Salary\"]\n",
    "X=df.drop([\"Salary\", \"CAtBat\", \"CHits\", \"CHmRun\", \"CRuns\", \"CRBI\", \"CWalks\"], axis=1)\n",
    "X_train, X_test, y_train, y_test = train_test_split(X, y, test_size=0.20, random_state=11)\n",
    "reg_model = LinearRegression()\n",
    "reg_model.fit(X_train, y_train)"
   ]
  },
  {
   "cell_type": "code",
   "execution_count": 21,
   "id": "90b12c42",
   "metadata": {
    "execution": {
     "iopub.execute_input": "2022-01-26T14:45:52.722128Z",
     "iopub.status.busy": "2022-01-26T14:45:52.720514Z",
     "iopub.status.idle": "2022-01-26T14:45:52.728636Z",
     "shell.execute_reply": "2022-01-26T14:45:52.729346Z",
     "shell.execute_reply.started": "2022-01-26T14:26:31.896671Z"
    },
    "papermill": {
     "duration": 0.068561,
     "end_time": "2022-01-26T14:45:52.729538",
     "exception": false,
     "start_time": "2022-01-26T14:45:52.660977",
     "status": "completed"
    },
    "tags": []
   },
   "outputs": [
    {
     "name": "stdout",
     "output_type": "stream",
     "text": [
      " Train RMSE:  208.7231\n",
      " Train R2:  0.7837\n"
     ]
    }
   ],
   "source": [
    "# Train scores\n",
    "\n",
    "y_pred = reg_model.predict(X_train)\n",
    "print(f\" Train RMSE:  {np.sqrt(mean_squared_error(y_train, y_pred)):.4f}\")\n",
    "print(f\" Train R2:  {reg_model.score(X_train, y_train):.4f}\")"
   ]
  },
  {
   "cell_type": "code",
   "execution_count": 22,
   "id": "54f794c0",
   "metadata": {
    "execution": {
     "iopub.execute_input": "2022-01-26T14:45:52.846363Z",
     "iopub.status.busy": "2022-01-26T14:45:52.845759Z",
     "iopub.status.idle": "2022-01-26T14:45:52.855727Z",
     "shell.execute_reply": "2022-01-26T14:45:52.855083Z",
     "shell.execute_reply.started": "2022-01-26T14:26:32.744188Z"
    },
    "papermill": {
     "duration": 0.071692,
     "end_time": "2022-01-26T14:45:52.855882",
     "exception": false,
     "start_time": "2022-01-26T14:45:52.784190",
     "status": "completed"
    },
    "tags": []
   },
   "outputs": [
    {
     "name": "stdout",
     "output_type": "stream",
     "text": [
      " Test RMSE:  306.8485\n",
      " Test R2:  0.5426\n"
     ]
    }
   ],
   "source": [
    "# Test scores\n",
    "\n",
    "y_pred = reg_model.predict(X_test)\n",
    "print(f\" Test RMSE:  {np.sqrt(mean_squared_error(y_test, y_pred)):.4f}\")\n",
    "print(f\" Test R2:  {reg_model.score(X_test, y_test):.4f}\")"
   ]
  },
  {
   "cell_type": "code",
   "execution_count": 23,
   "id": "aed81af4",
   "metadata": {
    "execution": {
     "iopub.execute_input": "2022-01-26T14:45:52.949574Z",
     "iopub.status.busy": "2022-01-26T14:45:52.947854Z",
     "iopub.status.idle": "2022-01-26T14:45:53.028547Z",
     "shell.execute_reply": "2022-01-26T14:45:53.029829Z",
     "shell.execute_reply.started": "2022-01-26T14:26:35.312861Z"
    },
    "papermill": {
     "duration": 0.129514,
     "end_time": "2022-01-26T14:45:53.030119",
     "exception": false,
     "start_time": "2022-01-26T14:45:52.900605",
     "status": "completed"
    },
    "tags": []
   },
   "outputs": [
    {
     "name": "stdout",
     "output_type": "stream",
     "text": [
      " Score with CV:  296.5135\n"
     ]
    }
   ],
   "source": [
    "# K-Fold Cross Validation\n",
    "cv_score = np.mean(np.sqrt(-cross_val_score(reg_model, X, y, cv=10, scoring=\"neg_mean_squared_error\")))\n",
    "print(f\" Score with CV:  {cv_score:.4f}\")"
   ]
  },
  {
   "cell_type": "code",
   "execution_count": 24,
   "id": "72d2e2fa",
   "metadata": {
    "execution": {
     "iopub.execute_input": "2022-01-26T14:45:53.150891Z",
     "iopub.status.busy": "2022-01-26T14:45:53.150018Z",
     "iopub.status.idle": "2022-01-26T14:45:53.651401Z",
     "shell.execute_reply": "2022-01-26T14:45:53.650864Z",
     "shell.execute_reply.started": "2022-01-26T14:26:41.891908Z"
    },
    "papermill": {
     "duration": 0.565739,
     "end_time": "2022-01-26T14:45:53.651530",
     "exception": false,
     "start_time": "2022-01-26T14:45:53.085791",
     "status": "completed"
    },
    "tags": []
   },
   "outputs": [
    {
     "data": {
      "image/png": "[encoded data removed]",
      "text/plain": [
       "<Figure size 864x864 with 1 Axes>"
      ]
     },
     "metadata": {
      "needs_background": "light"
     },
     "output_type": "display_data"
    }
   ],
   "source": [
    "# Variable Importance\n",
    "\n",
    "no_effect_list = [\"Salary\", \"CAtBat\", \"CHits\", \"CHmRun\", \"CRuns\", \"CRBI\", \"CWalks\"]\n",
    "\n",
    "def variable_importance(dataframe, model, print=False, plot=False):\n",
    "    df_col_names = [col for col in dataframe.columns if col not in no_effect_list]\n",
    "    df_col_scores = [i for i in np.absolute(model.coef_)]\n",
    "    df_col_names = pd.DataFrame(df_col_names, columns=[\"Feature\"])\n",
    "    df_col_scores = pd.DataFrame(df_col_scores, columns=[\"Score\"])\n",
    "    new_df = pd.concat([df_col_names, df_col_scores], axis=1)\n",
    "    new_df = new_df.sort_values(by=\"Score\", ascending=False)\n",
    "    if print:\n",
    "        for i in new_df.index:\n",
    "            print(f\"{new_df.values[i][0]} variable's score is: {new_df.values[i][1]:.4f}\")\n",
    "    if plot:\n",
    "        feature_imp = pd.DataFrame({\"Value\": new_df.Score.tolist(), \"Feature\": new_df.Feature.tolist()})\n",
    "        plt.figure(figsize=(12, 12))\n",
    "        sns.barplot(x=\"Value\", y=\"Feature\", data=feature_imp)\n",
    "        plt.title(\"Variable Importance Plot Map\")\n",
    "        plt.grid(axis=\"x\")\n",
    "        plt.tight_layout()\n",
    "        plt.show()\n",
    "        \n",
    "variable_importance(df, reg_model, False, True)"
   ]
  },
  {
   "cell_type": "markdown",
   "id": "dcac0794",
   "metadata": {
    "papermill": {
     "duration": 0.046847,
     "end_time": "2022-01-26T14:45:53.744618",
     "exception": false,
     "start_time": "2022-01-26T14:45:53.697771",
     "status": "completed"
    },
    "tags": []
   },
   "source": [
    "<hr style=\"height:2px;border-width:0;color:white;background-color:green\">\n",
    "\n",
    "# Salary Predict with Model"
   ]
  },
  {
   "cell_type": "code",
   "execution_count": 25,
   "id": "9ff81244",
   "metadata": {
    "execution": {
     "iopub.execute_input": "2022-01-26T14:45:53.813195Z",
     "iopub.status.busy": "2022-01-26T14:45:53.812717Z",
     "iopub.status.idle": "2022-01-26T14:45:53.840190Z",
     "shell.execute_reply": "2022-01-26T14:45:53.840634Z",
     "shell.execute_reply.started": "2022-01-26T14:26:49.570411Z"
    },
    "papermill": {
     "duration": 0.064374,
     "end_time": "2022-01-26T14:45:53.840778",
     "exception": false,
     "start_time": "2022-01-26T14:45:53.776404",
     "status": "completed"
    },
    "tags": []
   },
   "outputs": [
    {
     "data": {
      "text/html": [
       "<div>\n",
       "<style scoped>\n",
       "    .dataframe tbody tr th:only-of-type {\n",
       "        vertical-align: middle;\n",
       "    }\n",
       "\n",
       "    .dataframe tbody tr th {\n",
       "        vertical-align: top;\n",
       "    }\n",
       "\n",
       "    .dataframe thead th {\n",
       "        text-align: right;\n",
       "    }\n",
       "</style>\n",
       "<table border=\"1\" class=\"dataframe\">\n",
       "  <thead>\n",
       "    <tr style=\"text-align: right;\">\n",
       "      <th></th>\n",
       "      <th>AtBat</th>\n",
       "      <th>Hits</th>\n",
       "      <th>HmRun</th>\n",
       "      <th>Runs</th>\n",
       "      <th>RBI</th>\n",
       "      <th>Walks</th>\n",
       "      <th>Years</th>\n",
       "      <th>PutOuts</th>\n",
       "      <th>Assists</th>\n",
       "      <th>Errors</th>\n",
       "      <th>New_Hits/AtBat</th>\n",
       "      <th>New_HmRun/Hits</th>\n",
       "      <th>New_Runs/Hits</th>\n",
       "      <th>New_RBI/Hits</th>\n",
       "      <th>New_CHits/CAtBat</th>\n",
       "      <th>New_CHmRun/CHits</th>\n",
       "      <th>New_CRuns/CHits</th>\n",
       "      <th>New_CRBI/CHits</th>\n",
       "      <th>New_CAtBat_mean</th>\n",
       "      <th>New_CHits_mean</th>\n",
       "      <th>New_CHmRun_mean</th>\n",
       "      <th>New_CRBI_mean</th>\n",
       "      <th>New_CWalks_mean</th>\n",
       "      <th>New_Errors/Walks</th>\n",
       "      <th>New_Benefit_Loss</th>\n",
       "      <th>New_OBP</th>\n",
       "      <th>New_COBP</th>\n",
       "      <th>New_SLG</th>\n",
       "      <th>New_CSLG</th>\n",
       "      <th>New_COPS</th>\n",
       "      <th>BABIP</th>\n",
       "      <th>New_ERA</th>\n",
       "      <th>New_CERA</th>\n",
       "      <th>New_WHIP</th>\n",
       "      <th>New_CWHIP</th>\n",
       "      <th>League_N</th>\n",
       "      <th>Division_W</th>\n",
       "      <th>NewLeague_N</th>\n",
       "      <th>New_Years_Cat_old</th>\n",
       "      <th>New_Years_Cat_pro</th>\n",
       "      <th>New_Years_Cat_rookie</th>\n",
       "      <th>New_League_Move_stayed_N</th>\n",
       "      <th>New_League_Move_transfer_A_N</th>\n",
       "      <th>New_League_Move_transfer_N_A</th>\n",
       "    </tr>\n",
       "  </thead>\n",
       "  <tbody>\n",
       "    <tr>\n",
       "      <th>0</th>\n",
       "      <td>-0.574</td>\n",
       "      <td>-0.755</td>\n",
       "      <td>-1.124</td>\n",
       "      <td>-0.805</td>\n",
       "      <td>-0.728</td>\n",
       "      <td>-1.145</td>\n",
       "      <td>-1.310</td>\n",
       "      <td>0.560</td>\n",
       "      <td>-0.541</td>\n",
       "      <td>1.881</td>\n",
       "      <td>-1.004</td>\n",
       "      <td>-1.216</td>\n",
       "      <td>-0.430</td>\n",
       "      <td>-0.249</td>\n",
       "      <td>-1.408</td>\n",
       "      <td>-1.080</td>\n",
       "      <td>-0.469</td>\n",
       "      <td>-0.025</td>\n",
       "      <td>-0.223</td>\n",
       "      <td>-0.499</td>\n",
       "      <td>-0.973</td>\n",
       "      <td>-0.432</td>\n",
       "      <td>-0.945</td>\n",
       "      <td>1.319</td>\n",
       "      <td>0.148</td>\n",
       "      <td>-1.597</td>\n",
       "      <td>-2.015</td>\n",
       "      <td>-1.454</td>\n",
       "      <td>-1.367</td>\n",
       "      <td>-1.928</td>\n",
       "      <td>-0.150</td>\n",
       "      <td>-0.141</td>\n",
       "      <td>-0.870</td>\n",
       "      <td>-0.182</td>\n",
       "      <td>-0.890</td>\n",
       "      <td>0</td>\n",
       "      <td>0</td>\n",
       "      <td>0</td>\n",
       "      <td>0</td>\n",
       "      <td>0</td>\n",
       "      <td>1</td>\n",
       "      <td>0</td>\n",
       "      <td>0</td>\n",
       "      <td>0</td>\n",
       "    </tr>\n",
       "    <tr>\n",
       "      <th>15</th>\n",
       "      <td>-1.292</td>\n",
       "      <td>-1.337</td>\n",
       "      <td>-0.894</td>\n",
       "      <td>-1.190</td>\n",
       "      <td>-1.264</td>\n",
       "      <td>-1.284</td>\n",
       "      <td>-0.904</td>\n",
       "      <td>-0.610</td>\n",
       "      <td>-0.782</td>\n",
       "      <td>-1.265</td>\n",
       "      <td>-1.305</td>\n",
       "      <td>-0.275</td>\n",
       "      <td>0.186</td>\n",
       "      <td>-0.581</td>\n",
       "      <td>-2.017</td>\n",
       "      <td>-0.100</td>\n",
       "      <td>-0.156</td>\n",
       "      <td>-0.446</td>\n",
       "      <td>-1.925</td>\n",
       "      <td>-1.835</td>\n",
       "      <td>-1.074</td>\n",
       "      <td>-1.592</td>\n",
       "      <td>-1.591</td>\n",
       "      <td>-0.368</td>\n",
       "      <td>-0.947</td>\n",
       "      <td>-1.450</td>\n",
       "      <td>-2.144</td>\n",
       "      <td>-0.653</td>\n",
       "      <td>-0.692</td>\n",
       "      <td>-1.392</td>\n",
       "      <td>-0.629</td>\n",
       "      <td>-0.741</td>\n",
       "      <td>-0.927</td>\n",
       "      <td>-0.878</td>\n",
       "      <td>-0.948</td>\n",
       "      <td>0</td>\n",
       "      <td>1</td>\n",
       "      <td>0</td>\n",
       "      <td>0</td>\n",
       "      <td>0</td>\n",
       "      <td>1</td>\n",
       "      <td>0</td>\n",
       "      <td>0</td>\n",
       "      <td>0</td>\n",
       "    </tr>\n",
       "    <tr>\n",
       "      <th>18</th>\n",
       "      <td>0.170</td>\n",
       "      <td>0.064</td>\n",
       "      <td>-0.549</td>\n",
       "      <td>0.234</td>\n",
       "      <td>-0.192</td>\n",
       "      <td>1.215</td>\n",
       "      <td>0.926</td>\n",
       "      <td>2.223</td>\n",
       "      <td>-0.138</td>\n",
       "      <td>0.151</td>\n",
       "      <td>-0.159</td>\n",
       "      <td>-0.722</td>\n",
       "      <td>0.457</td>\n",
       "      <td>-0.449</td>\n",
       "      <td>0.810</td>\n",
       "      <td>-0.484</td>\n",
       "      <td>-0.801</td>\n",
       "      <td>-0.043</td>\n",
       "      <td>0.844</td>\n",
       "      <td>0.929</td>\n",
       "      <td>-0.001</td>\n",
       "      <td>0.757</td>\n",
       "      <td>1.374</td>\n",
       "      <td>-0.281</td>\n",
       "      <td>2.004</td>\n",
       "      <td>0.860</td>\n",
       "      <td>0.937</td>\n",
       "      <td>-0.540</td>\n",
       "      <td>-0.464</td>\n",
       "      <td>-0.055</td>\n",
       "      <td>0.122</td>\n",
       "      <td>-0.546</td>\n",
       "      <td>0.320</td>\n",
       "      <td>-0.522</td>\n",
       "      <td>0.630</td>\n",
       "      <td>0</td>\n",
       "      <td>1</td>\n",
       "      <td>0</td>\n",
       "      <td>0</td>\n",
       "      <td>0</td>\n",
       "      <td>0</td>\n",
       "      <td>0</td>\n",
       "      <td>0</td>\n",
       "      <td>0</td>\n",
       "    </tr>\n",
       "    <tr>\n",
       "      <th>22</th>\n",
       "      <td>-2.343</td>\n",
       "      <td>-1.962</td>\n",
       "      <td>-1.124</td>\n",
       "      <td>-1.805</td>\n",
       "      <td>-1.762</td>\n",
       "      <td>-1.747</td>\n",
       "      <td>-0.294</td>\n",
       "      <td>1.866</td>\n",
       "      <td>-0.168</td>\n",
       "      <td>0.465</td>\n",
       "      <td>6.178</td>\n",
       "      <td>0.822</td>\n",
       "      <td>-0.510</td>\n",
       "      <td>-1.465</td>\n",
       "      <td>2.233</td>\n",
       "      <td>0.181</td>\n",
       "      <td>-1.593</td>\n",
       "      <td>-0.647</td>\n",
       "      <td>-2.324</td>\n",
       "      <td>-2.085</td>\n",
       "      <td>-1.201</td>\n",
       "      <td>-1.783</td>\n",
       "      <td>-1.786</td>\n",
       "      <td>7.215</td>\n",
       "      <td>1.463</td>\n",
       "      <td>5.574</td>\n",
       "      <td>0.602</td>\n",
       "      <td>3.611</td>\n",
       "      <td>0.318</td>\n",
       "      <td>0.498</td>\n",
       "      <td>14.647</td>\n",
       "      <td>-1.113</td>\n",
       "      <td>-0.934</td>\n",
       "      <td>-1.246</td>\n",
       "      <td>-0.943</td>\n",
       "      <td>0</td>\n",
       "      <td>1</td>\n",
       "      <td>0</td>\n",
       "      <td>0</td>\n",
       "      <td>1</td>\n",
       "      <td>0</td>\n",
       "      <td>0</td>\n",
       "      <td>0</td>\n",
       "      <td>0</td>\n",
       "    </tr>\n",
       "    <tr>\n",
       "      <th>30</th>\n",
       "      <td>-0.443</td>\n",
       "      <td>-0.367</td>\n",
       "      <td>-0.204</td>\n",
       "      <td>-0.343</td>\n",
       "      <td>-0.690</td>\n",
       "      <td>0.012</td>\n",
       "      <td>1.943</td>\n",
       "      <td>-0.578</td>\n",
       "      <td>0.835</td>\n",
       "      <td>-0.164</td>\n",
       "      <td>0.224</td>\n",
       "      <td>-0.038</td>\n",
       "      <td>-0.003</td>\n",
       "      <td>-0.826</td>\n",
       "      <td>0.144</td>\n",
       "      <td>0.360</td>\n",
       "      <td>0.763</td>\n",
       "      <td>0.166</td>\n",
       "      <td>0.613</td>\n",
       "      <td>0.539</td>\n",
       "      <td>0.730</td>\n",
       "      <td>0.564</td>\n",
       "      <td>1.932</td>\n",
       "      <td>-0.219</td>\n",
       "      <td>-0.148</td>\n",
       "      <td>0.718</td>\n",
       "      <td>1.336</td>\n",
       "      <td>0.087</td>\n",
       "      <td>0.610</td>\n",
       "      <td>1.022</td>\n",
       "      <td>0.181</td>\n",
       "      <td>-0.554</td>\n",
       "      <td>0.579</td>\n",
       "      <td>-0.545</td>\n",
       "      <td>0.665</td>\n",
       "      <td>0</td>\n",
       "      <td>1</td>\n",
       "      <td>0</td>\n",
       "      <td>1</td>\n",
       "      <td>0</td>\n",
       "      <td>0</td>\n",
       "      <td>0</td>\n",
       "      <td>0</td>\n",
       "      <td>0</td>\n",
       "    </tr>\n",
       "  </tbody>\n",
       "</table>\n",
       "</div>"
      ],
      "text/plain": [
       "    AtBat   Hits  HmRun   Runs    RBI  Walks  Years  PutOuts  Assists  Errors  New_Hits/AtBat  New_HmRun/Hits  New_Runs/Hits  New_RBI/Hits  New_CHits/CAtBat  New_CHmRun/CHits  New_CRuns/CHits  New_CRBI/CHits  New_CAtBat_mean  New_CHits_mean  New_CHmRun_mean  New_CRBI_mean  New_CWalks_mean  New_Errors/Walks  New_Benefit_Loss  New_OBP  New_COBP  New_SLG  New_CSLG  New_COPS  BABIP  New_ERA  New_CERA  New_WHIP  New_CWHIP  League_N  Division_W  NewLeague_N  New_Years_Cat_old  New_Years_Cat_pro  New_Years_Cat_rookie  New_League_Move_stayed_N  New_League_Move_transfer_A_N  New_League_Move_transfer_N_A\n",
       "0  -0.574 -0.755 -1.124 -0.805 -0.728 -1.145 -1.310    0.560   -0.541   1.881          -1.004          -1.216         -0.430        -0.249            -1.408            -1.080           -0.469          -0.025           -0.223          -0.499           -0.973         -0.432           -0.945             1.319             0.148   -1.597    -2.015   -1.454    -1.367    -1.928 -0.150   -0.141    -0.870    -0.182     -0.890         0           0            0                  0                  0                     1                         0                             0                             0\n",
       "15 -1.292 -1.337 -0.894 -1.190 -1.264 -1.284 -0.904   -0.610   -0.782  -1.265          -1.305          -0.275          0.186        -0.581            -2.017            -0.100           -0.156          -0.446           -1.925          -1.835           -1.074         -1.592           -1.591            -0.368            -0.947   -1.450    -2.144   -0.653    -0.692    -1.392 -0.629   -0.741    -0.927    -0.878     -0.948         0           1            0                  0                  0                     1                         0                             0                             0\n",
       "18  0.170  0.064 -0.549  0.234 -0.192  1.215  0.926    2.223   -0.138   0.151          -0.159          -0.722          0.457        -0.449             0.810            -0.484           -0.801          -0.043            0.844           0.929           -0.001          0.757            1.374            -0.281             2.004    0.860     0.937   -0.540    -0.464    -0.055  0.122   -0.546     0.320    -0.522      0.630         0           1            0                  0                  0                     0                         0                             0                             0\n",
       "22 -2.343 -1.962 -1.124 -1.805 -1.762 -1.747 -0.294    1.866   -0.168   0.465           6.178           0.822         -0.510        -1.465             2.233             0.181           -1.593          -0.647           -2.324          -2.085           -1.201         -1.783           -1.786             7.215             1.463    5.574     0.602    3.611     0.318     0.498 14.647   -1.113    -0.934    -1.246     -0.943         0           1            0                  0                  1                     0                         0                             0                             0\n",
       "30 -0.443 -0.367 -0.204 -0.343 -0.690  0.012  1.943   -0.578    0.835  -0.164           0.224          -0.038         -0.003        -0.826             0.144             0.360            0.763           0.166            0.613           0.539            0.730          0.564            1.932            -0.219            -0.148    0.718     1.336    0.087     0.610     1.022  0.181   -0.554     0.579    -0.545      0.665         0           1            0                  1                  0                     0                         0                             0                             0"
      ]
     },
     "execution_count": 25,
     "metadata": {},
     "output_type": "execute_result"
    }
   ],
   "source": [
    "# Let's look at our dataset with no salaries...\n",
    "\n",
    "df_test = df_test.drop(no_effect_list, axis=1)\n",
    "df_test.head()"
   ]
  },
  {
   "cell_type": "code",
   "execution_count": 26,
   "id": "938b6042",
   "metadata": {
    "execution": {
     "iopub.execute_input": "2022-01-26T14:45:53.913676Z",
     "iopub.status.busy": "2022-01-26T14:45:53.913139Z",
     "iopub.status.idle": "2022-01-26T14:45:53.914592Z",
     "shell.execute_reply": "2022-01-26T14:45:53.915056Z"
    },
    "papermill": {
     "duration": 0.041556,
     "end_time": "2022-01-26T14:45:53.915204",
     "exception": false,
     "start_time": "2022-01-26T14:45:53.873648",
     "status": "completed"
    },
    "tags": []
   },
   "outputs": [],
   "source": [
    "# Predict the salaries...\n",
    "\n",
    "df_test[\"Salary\"] = reg_model.predict(df_test)"
   ]
  },
  {
   "cell_type": "code",
   "execution_count": 27,
   "id": "ad07f9d7",
   "metadata": {
    "execution": {
     "iopub.execute_input": "2022-01-26T14:45:53.984982Z",
     "iopub.status.busy": "2022-01-26T14:45:53.984480Z",
     "iopub.status.idle": "2022-01-26T14:45:54.013209Z",
     "shell.execute_reply": "2022-01-26T14:45:54.013643Z",
     "shell.execute_reply.started": "2022-01-26T14:39:39.834134Z"
    },
    "papermill": {
     "duration": 0.064885,
     "end_time": "2022-01-26T14:45:54.013780",
     "exception": false,
     "start_time": "2022-01-26T14:45:53.948895",
     "status": "completed"
    },
    "tags": []
   },
   "outputs": [
    {
     "data": {
      "text/html": [
       "<div>\n",
       "<style scoped>\n",
       "    .dataframe tbody tr th:only-of-type {\n",
       "        vertical-align: middle;\n",
       "    }\n",
       "\n",
       "    .dataframe tbody tr th {\n",
       "        vertical-align: top;\n",
       "    }\n",
       "\n",
       "    .dataframe thead th {\n",
       "        text-align: right;\n",
       "    }\n",
       "</style>\n",
       "<table border=\"1\" class=\"dataframe\">\n",
       "  <thead>\n",
       "    <tr style=\"text-align: right;\">\n",
       "      <th></th>\n",
       "      <th>AtBat</th>\n",
       "      <th>Hits</th>\n",
       "      <th>HmRun</th>\n",
       "      <th>Runs</th>\n",
       "      <th>RBI</th>\n",
       "      <th>Walks</th>\n",
       "      <th>Years</th>\n",
       "      <th>PutOuts</th>\n",
       "      <th>Assists</th>\n",
       "      <th>Errors</th>\n",
       "      <th>New_Hits/AtBat</th>\n",
       "      <th>New_HmRun/Hits</th>\n",
       "      <th>New_Runs/Hits</th>\n",
       "      <th>New_RBI/Hits</th>\n",
       "      <th>New_CHits/CAtBat</th>\n",
       "      <th>New_CHmRun/CHits</th>\n",
       "      <th>New_CRuns/CHits</th>\n",
       "      <th>New_CRBI/CHits</th>\n",
       "      <th>New_CAtBat_mean</th>\n",
       "      <th>New_CHits_mean</th>\n",
       "      <th>New_CHmRun_mean</th>\n",
       "      <th>New_CRBI_mean</th>\n",
       "      <th>New_CWalks_mean</th>\n",
       "      <th>New_Errors/Walks</th>\n",
       "      <th>New_Benefit_Loss</th>\n",
       "      <th>New_OBP</th>\n",
       "      <th>New_COBP</th>\n",
       "      <th>New_SLG</th>\n",
       "      <th>New_CSLG</th>\n",
       "      <th>New_COPS</th>\n",
       "      <th>BABIP</th>\n",
       "      <th>New_ERA</th>\n",
       "      <th>New_CERA</th>\n",
       "      <th>New_WHIP</th>\n",
       "      <th>New_CWHIP</th>\n",
       "      <th>League_N</th>\n",
       "      <th>Division_W</th>\n",
       "      <th>NewLeague_N</th>\n",
       "      <th>New_Years_Cat_old</th>\n",
       "      <th>New_Years_Cat_pro</th>\n",
       "      <th>New_Years_Cat_rookie</th>\n",
       "      <th>New_League_Move_stayed_N</th>\n",
       "      <th>New_League_Move_transfer_A_N</th>\n",
       "      <th>New_League_Move_transfer_N_A</th>\n",
       "      <th>Salary</th>\n",
       "    </tr>\n",
       "  </thead>\n",
       "  <tbody>\n",
       "    <tr>\n",
       "      <th>0</th>\n",
       "      <td>-0.574</td>\n",
       "      <td>-0.755</td>\n",
       "      <td>-1.124</td>\n",
       "      <td>-0.805</td>\n",
       "      <td>-0.728</td>\n",
       "      <td>-1.145</td>\n",
       "      <td>-1.310</td>\n",
       "      <td>0.560</td>\n",
       "      <td>-0.541</td>\n",
       "      <td>1.881</td>\n",
       "      <td>-1.004</td>\n",
       "      <td>-1.216</td>\n",
       "      <td>-0.430</td>\n",
       "      <td>-0.249</td>\n",
       "      <td>-1.408</td>\n",
       "      <td>-1.080</td>\n",
       "      <td>-0.469</td>\n",
       "      <td>-0.025</td>\n",
       "      <td>-0.223</td>\n",
       "      <td>-0.499</td>\n",
       "      <td>-0.973</td>\n",
       "      <td>-0.432</td>\n",
       "      <td>-0.945</td>\n",
       "      <td>1.319</td>\n",
       "      <td>0.148</td>\n",
       "      <td>-1.597</td>\n",
       "      <td>-2.015</td>\n",
       "      <td>-1.454</td>\n",
       "      <td>-1.367</td>\n",
       "      <td>-1.928</td>\n",
       "      <td>-0.150</td>\n",
       "      <td>-0.141</td>\n",
       "      <td>-0.870</td>\n",
       "      <td>-0.182</td>\n",
       "      <td>-0.890</td>\n",
       "      <td>0</td>\n",
       "      <td>0</td>\n",
       "      <td>0</td>\n",
       "      <td>0</td>\n",
       "      <td>0</td>\n",
       "      <td>1</td>\n",
       "      <td>0</td>\n",
       "      <td>0</td>\n",
       "      <td>0</td>\n",
       "      <td>140.068</td>\n",
       "    </tr>\n",
       "    <tr>\n",
       "      <th>15</th>\n",
       "      <td>-1.292</td>\n",
       "      <td>-1.337</td>\n",
       "      <td>-0.894</td>\n",
       "      <td>-1.190</td>\n",
       "      <td>-1.264</td>\n",
       "      <td>-1.284</td>\n",
       "      <td>-0.904</td>\n",
       "      <td>-0.610</td>\n",
       "      <td>-0.782</td>\n",
       "      <td>-1.265</td>\n",
       "      <td>-1.305</td>\n",
       "      <td>-0.275</td>\n",
       "      <td>0.186</td>\n",
       "      <td>-0.581</td>\n",
       "      <td>-2.017</td>\n",
       "      <td>-0.100</td>\n",
       "      <td>-0.156</td>\n",
       "      <td>-0.446</td>\n",
       "      <td>-1.925</td>\n",
       "      <td>-1.835</td>\n",
       "      <td>-1.074</td>\n",
       "      <td>-1.592</td>\n",
       "      <td>-1.591</td>\n",
       "      <td>-0.368</td>\n",
       "      <td>-0.947</td>\n",
       "      <td>-1.450</td>\n",
       "      <td>-2.144</td>\n",
       "      <td>-0.653</td>\n",
       "      <td>-0.692</td>\n",
       "      <td>-1.392</td>\n",
       "      <td>-0.629</td>\n",
       "      <td>-0.741</td>\n",
       "      <td>-0.927</td>\n",
       "      <td>-0.878</td>\n",
       "      <td>-0.948</td>\n",
       "      <td>0</td>\n",
       "      <td>1</td>\n",
       "      <td>0</td>\n",
       "      <td>0</td>\n",
       "      <td>0</td>\n",
       "      <td>1</td>\n",
       "      <td>0</td>\n",
       "      <td>0</td>\n",
       "      <td>0</td>\n",
       "      <td>-206.613</td>\n",
       "    </tr>\n",
       "    <tr>\n",
       "      <th>18</th>\n",
       "      <td>0.170</td>\n",
       "      <td>0.064</td>\n",
       "      <td>-0.549</td>\n",
       "      <td>0.234</td>\n",
       "      <td>-0.192</td>\n",
       "      <td>1.215</td>\n",
       "      <td>0.926</td>\n",
       "      <td>2.223</td>\n",
       "      <td>-0.138</td>\n",
       "      <td>0.151</td>\n",
       "      <td>-0.159</td>\n",
       "      <td>-0.722</td>\n",
       "      <td>0.457</td>\n",
       "      <td>-0.449</td>\n",
       "      <td>0.810</td>\n",
       "      <td>-0.484</td>\n",
       "      <td>-0.801</td>\n",
       "      <td>-0.043</td>\n",
       "      <td>0.844</td>\n",
       "      <td>0.929</td>\n",
       "      <td>-0.001</td>\n",
       "      <td>0.757</td>\n",
       "      <td>1.374</td>\n",
       "      <td>-0.281</td>\n",
       "      <td>2.004</td>\n",
       "      <td>0.860</td>\n",
       "      <td>0.937</td>\n",
       "      <td>-0.540</td>\n",
       "      <td>-0.464</td>\n",
       "      <td>-0.055</td>\n",
       "      <td>0.122</td>\n",
       "      <td>-0.546</td>\n",
       "      <td>0.320</td>\n",
       "      <td>-0.522</td>\n",
       "      <td>0.630</td>\n",
       "      <td>0</td>\n",
       "      <td>1</td>\n",
       "      <td>0</td>\n",
       "      <td>0</td>\n",
       "      <td>0</td>\n",
       "      <td>0</td>\n",
       "      <td>0</td>\n",
       "      <td>0</td>\n",
       "      <td>0</td>\n",
       "      <td>870.392</td>\n",
       "    </tr>\n",
       "    <tr>\n",
       "      <th>22</th>\n",
       "      <td>-2.343</td>\n",
       "      <td>-1.962</td>\n",
       "      <td>-1.124</td>\n",
       "      <td>-1.805</td>\n",
       "      <td>-1.762</td>\n",
       "      <td>-1.747</td>\n",
       "      <td>-0.294</td>\n",
       "      <td>1.866</td>\n",
       "      <td>-0.168</td>\n",
       "      <td>0.465</td>\n",
       "      <td>6.178</td>\n",
       "      <td>0.822</td>\n",
       "      <td>-0.510</td>\n",
       "      <td>-1.465</td>\n",
       "      <td>2.233</td>\n",
       "      <td>0.181</td>\n",
       "      <td>-1.593</td>\n",
       "      <td>-0.647</td>\n",
       "      <td>-2.324</td>\n",
       "      <td>-2.085</td>\n",
       "      <td>-1.201</td>\n",
       "      <td>-1.783</td>\n",
       "      <td>-1.786</td>\n",
       "      <td>7.215</td>\n",
       "      <td>1.463</td>\n",
       "      <td>5.574</td>\n",
       "      <td>0.602</td>\n",
       "      <td>3.611</td>\n",
       "      <td>0.318</td>\n",
       "      <td>0.498</td>\n",
       "      <td>14.647</td>\n",
       "      <td>-1.113</td>\n",
       "      <td>-0.934</td>\n",
       "      <td>-1.246</td>\n",
       "      <td>-0.943</td>\n",
       "      <td>0</td>\n",
       "      <td>1</td>\n",
       "      <td>0</td>\n",
       "      <td>0</td>\n",
       "      <td>1</td>\n",
       "      <td>0</td>\n",
       "      <td>0</td>\n",
       "      <td>0</td>\n",
       "      <td>0</td>\n",
       "      <td>3036.031</td>\n",
       "    </tr>\n",
       "    <tr>\n",
       "      <th>30</th>\n",
       "      <td>-0.443</td>\n",
       "      <td>-0.367</td>\n",
       "      <td>-0.204</td>\n",
       "      <td>-0.343</td>\n",
       "      <td>-0.690</td>\n",
       "      <td>0.012</td>\n",
       "      <td>1.943</td>\n",
       "      <td>-0.578</td>\n",
       "      <td>0.835</td>\n",
       "      <td>-0.164</td>\n",
       "      <td>0.224</td>\n",
       "      <td>-0.038</td>\n",
       "      <td>-0.003</td>\n",
       "      <td>-0.826</td>\n",
       "      <td>0.144</td>\n",
       "      <td>0.360</td>\n",
       "      <td>0.763</td>\n",
       "      <td>0.166</td>\n",
       "      <td>0.613</td>\n",
       "      <td>0.539</td>\n",
       "      <td>0.730</td>\n",
       "      <td>0.564</td>\n",
       "      <td>1.932</td>\n",
       "      <td>-0.219</td>\n",
       "      <td>-0.148</td>\n",
       "      <td>0.718</td>\n",
       "      <td>1.336</td>\n",
       "      <td>0.087</td>\n",
       "      <td>0.610</td>\n",
       "      <td>1.022</td>\n",
       "      <td>0.181</td>\n",
       "      <td>-0.554</td>\n",
       "      <td>0.579</td>\n",
       "      <td>-0.545</td>\n",
       "      <td>0.665</td>\n",
       "      <td>0</td>\n",
       "      <td>1</td>\n",
       "      <td>0</td>\n",
       "      <td>1</td>\n",
       "      <td>0</td>\n",
       "      <td>0</td>\n",
       "      <td>0</td>\n",
       "      <td>0</td>\n",
       "      <td>0</td>\n",
       "      <td>479.506</td>\n",
       "    </tr>\n",
       "  </tbody>\n",
       "</table>\n",
       "</div>"
      ],
      "text/plain": [
       "    AtBat   Hits  HmRun   Runs    RBI  Walks  Years  PutOuts  Assists  Errors  New_Hits/AtBat  New_HmRun/Hits  New_Runs/Hits  New_RBI/Hits  New_CHits/CAtBat  New_CHmRun/CHits  New_CRuns/CHits  New_CRBI/CHits  New_CAtBat_mean  New_CHits_mean  New_CHmRun_mean  New_CRBI_mean  New_CWalks_mean  New_Errors/Walks  New_Benefit_Loss  New_OBP  New_COBP  New_SLG  New_CSLG  New_COPS  BABIP  New_ERA  New_CERA  New_WHIP  New_CWHIP  League_N  Division_W  NewLeague_N  New_Years_Cat_old  New_Years_Cat_pro  New_Years_Cat_rookie  New_League_Move_stayed_N  New_League_Move_transfer_A_N  New_League_Move_transfer_N_A   Salary\n",
       "0  -0.574 -0.755 -1.124 -0.805 -0.728 -1.145 -1.310    0.560   -0.541   1.881          -1.004          -1.216         -0.430        -0.249            -1.408            -1.080           -0.469          -0.025           -0.223          -0.499           -0.973         -0.432           -0.945             1.319             0.148   -1.597    -2.015   -1.454    -1.367    -1.928 -0.150   -0.141    -0.870    -0.182     -0.890         0           0            0                  0                  0                     1                         0                             0                             0  140.068\n",
       "15 -1.292 -1.337 -0.894 -1.190 -1.264 -1.284 -0.904   -0.610   -0.782  -1.265          -1.305          -0.275          0.186        -0.581            -2.017            -0.100           -0.156          -0.446           -1.925          -1.835           -1.074         -1.592           -1.591            -0.368            -0.947   -1.450    -2.144   -0.653    -0.692    -1.392 -0.629   -0.741    -0.927    -0.878     -0.948         0           1            0                  0                  0                     1                         0                             0                             0 -206.613\n",
       "18  0.170  0.064 -0.549  0.234 -0.192  1.215  0.926    2.223   -0.138   0.151          -0.159          -0.722          0.457        -0.449             0.810            -0.484           -0.801          -0.043            0.844           0.929           -0.001          0.757            1.374            -0.281             2.004    0.860     0.937   -0.540    -0.464    -0.055  0.122   -0.546     0.320    -0.522      0.630         0           1            0                  0                  0                     0                         0                             0                             0  870.392\n",
       "22 -2.343 -1.962 -1.124 -1.805 -1.762 -1.747 -0.294    1.866   -0.168   0.465           6.178           0.822         -0.510        -1.465             2.233             0.181           -1.593          -0.647           -2.324          -2.085           -1.201         -1.783           -1.786             7.215             1.463    5.574     0.602    3.611     0.318     0.498 14.647   -1.113    -0.934    -1.246     -0.943         0           1            0                  0                  1                     0                         0                             0                             0 3036.031\n",
       "30 -0.443 -0.367 -0.204 -0.343 -0.690  0.012  1.943   -0.578    0.835  -0.164           0.224          -0.038         -0.003        -0.826             0.144             0.360            0.763           0.166            0.613           0.539            0.730          0.564            1.932            -0.219            -0.148    0.718     1.336    0.087     0.610     1.022  0.181   -0.554     0.579    -0.545      0.665         0           1            0                  1                  0                     0                         0                             0                             0  479.506"
      ]
     },
     "execution_count": 27,
     "metadata": {},
     "output_type": "execute_result"
    }
   ],
   "source": [
    "df_test.head()"
   ]
  },
  {
   "cell_type": "markdown",
   "id": "89734073",
   "metadata": {
    "papermill": {
     "duration": 0.033751,
     "end_time": "2022-01-26T14:45:54.081363",
     "exception": false,
     "start_time": "2022-01-26T14:45:54.047612",
     "status": "completed"
    },
    "tags": []
   },
   "source": [
    "#### Some players have to pay to their club, because they play really bad :)<br> Which salary negative is, it should be checked again..."
   ]
  }
 ],
 "metadata": {
  "kernelspec": {
   "display_name": "Python 3",
   "language": "python",
   "name": "python3"
  },
  "language_info": {
   "codemirror_mode": {
    "name": "ipython",
    "version": 3
   },
   "file_extension": ".py",
   "mimetype": "text/x-python",
   "name": "python",
   "nbconvert_exporter": "python",
   "pygments_lexer": "ipython3",
   "version": "3.7.12"
  },
  "papermill": {
   "default_parameters": {},
   "duration": 18.765325,
   "end_time": "2022-01-26T14:45:54.925644",
   "environment_variables": {},
   "exception": null,
   "input_path": "__notebook__.ipynb",
   "output_path": "__notebook__.ipynb",
   "parameters": {},
   "start_time": "2022-01-26T14:45:36.160319",
   "version": "2.3.3"
  }
 },
 "nbformat": 4,
 "nbformat_minor": 5
}
